{
 "cells": [
  {
   "cell_type": "code",
   "execution_count": null,
   "metadata": {},
   "outputs": [],
   "source": [
    "import pandas as pd\n",
    "import seaborn as sns\n",
    "\n",
    "import matplotlib.pyplot as plt\n",
    "\n",
    "%matplotlib inline"
   ]
  },
  {
   "cell_type": "markdown",
   "metadata": {},
   "source": [
    "# Exploratory Data Analysis"
   ]
  },
  {
   "cell_type": "code",
   "execution_count": null,
   "metadata": {},
   "outputs": [],
   "source": []
  },
  {
   "cell_type": "code",
   "execution_count": 25,
   "metadata": {},
   "outputs": [
    {
     "name": "stderr",
     "output_type": "stream",
     "text": [
      "C:\\Users\\Boetmate\\AppData\\Local\\Temp\\ipykernel_17692\\2963006392.py:18: FutureWarning: Series.dt.weekofyear and Series.dt.week have been deprecated. Please use Series.dt.isocalendar().week instead.\n",
      "  dataset['month'] = dataset['valid'].dt.week\n"
     ]
    }
   ],
   "source": [
    "import pandas as pd\n",
    "import seaborn as sns\n",
    "\n",
    "import matplotlib.pyplot as plt\n",
    "\n",
    "%matplotlib inline\n",
    "\n",
    "dataset = pd.read_csv(\"weather-data.csv\")\n",
    " # Show the first five results.\n",
    "\n",
    "\n",
    "# convert valid to datetime format\n",
    "dataset['valid'] = pd.to_datetime(dataset.valid)\n",
    "\n",
    "# extract numerical values from datetime object\n",
    "dataset['year'] = dataset['valid'].dt.year\n",
    "dataset['month'] = dataset['valid'].dt.month\n",
    "dataset['week'] = dataset['valid'].dt.week\n",
    "dataset['day'] = dataset['valid'].dt.day\n",
    "dataset['hour'] = dataset['valid'].dt.hour\n",
    "dataset['minute'] = dataset['valid'].dt.minute\n",
    "dataset['dayofweek'] = dataset['valid'].dt.dayofweek\n",
    "\n",
    "dataset.head()\n",
    "\n",
    "#dataset.drop(dataset.columns[[0, 6, 7]], inplace = True) <- This showed me that \"station\" is actually \" station\" \n",
    "dataset.drop(columns=[' station', 'gust', 'peak_wind_drct', 'valid'], inplace=True)\n",
    "#dataset.head()\n",
    "#dataset.info()\n",
    "\n",
    "#drop na values\n",
    "dataset.dropna(axis=0, inplace= True)"
   ]
  },
  {
   "cell_type": "code",
   "execution_count": 26,
   "metadata": {},
   "outputs": [
    {
     "name": "stdout",
     "output_type": "stream",
     "text": [
      "<class 'pandas.core.frame.DataFrame'>\n",
      "Int64Index: 103584 entries, 0 to 103712\n",
      "Data columns (total 10 columns):\n",
      " #   Column     Non-Null Count   Dtype  \n",
      "---  ------     --------------   -----  \n",
      " 0   tmpc       103584 non-null  float64\n",
      " 1   dwpc       103584 non-null  float64\n",
      " 2   relh       103584 non-null  float64\n",
      " 3   sknt       103584 non-null  float64\n",
      " 4   year       103584 non-null  int64  \n",
      " 5   month      103584 non-null  int64  \n",
      " 6   day        103584 non-null  int64  \n",
      " 7   hour       103584 non-null  int64  \n",
      " 8   minute     103584 non-null  int64  \n",
      " 9   dayofweek  103584 non-null  int64  \n",
      "dtypes: float64(4), int64(6)\n",
      "memory usage: 8.7 MB\n",
      "1.7549311546515507\n"
     ]
    },
    {
     "data": {
      "text/plain": [
       "0.7378968915590258"
      ]
     },
     "execution_count": 26,
     "metadata": {},
     "output_type": "execute_result"
    }
   ],
   "source": [
    "\n",
    "dataset.info()\n",
    "dataset.head()\n",
    "\n",
    "# Define my target: temperature\n",
    "y = dataset.tmpc \n",
    "\n",
    "# Define my x-values, or features\n",
    "# weather_features = ['year','month', 'day',\t'hour',\t'minute','dayofweek']\n",
    "weather_features = ['year','month', 'day']\n",
    "X = dataset[weather_features]\n",
    "X.describe()\n",
    "\n",
    "from sklearn.model_selection import train_test_split\n",
    "from sklearn.ensemble import RandomForestRegressor\n",
    "from sklearn.metrics import mean_absolute_error\n",
    "\n",
    "# Training and validation sets \n",
    "train_X, val_X, train_y, val_y = train_test_split(X, y, random_state = 1)\n",
    "\n",
    "# Create Random Forest Model\n",
    "forest_model = RandomForestRegressor(random_state=1)\n",
    "forest_model.fit(train_X, train_y)\n",
    "val_predictions = forest_model.predict(val_X)\n",
    "\n",
    "#Evaluating with MAE and R2\n",
    "print(mean_absolute_error(val_predictions,val_y))\n",
    "\n",
    "forest_model.score(val_X, val_y)"
   ]
  },
  {
   "cell_type": "code",
   "execution_count": 27,
   "metadata": {},
   "outputs": [
    {
     "data": {
      "text/html": [
       "<div>\n",
       "<style scoped>\n",
       "    .dataframe tbody tr th:only-of-type {\n",
       "        vertical-align: middle;\n",
       "    }\n",
       "\n",
       "    .dataframe tbody tr th {\n",
       "        vertical-align: top;\n",
       "    }\n",
       "\n",
       "    .dataframe thead th {\n",
       "        text-align: right;\n",
       "    }\n",
       "</style>\n",
       "<table border=\"1\" class=\"dataframe\">\n",
       "  <thead>\n",
       "    <tr style=\"text-align: right;\">\n",
       "      <th></th>\n",
       "      <th>year</th>\n",
       "      <th>month</th>\n",
       "      <th>day</th>\n",
       "    </tr>\n",
       "  </thead>\n",
       "  <tbody>\n",
       "    <tr>\n",
       "      <th>25412</th>\n",
       "      <td>2016</td>\n",
       "      <td>26</td>\n",
       "      <td>30</td>\n",
       "    </tr>\n",
       "    <tr>\n",
       "      <th>80621</th>\n",
       "      <td>2019</td>\n",
       "      <td>36</td>\n",
       "      <td>6</td>\n",
       "    </tr>\n",
       "    <tr>\n",
       "      <th>43607</th>\n",
       "      <td>2017</td>\n",
       "      <td>30</td>\n",
       "      <td>25</td>\n",
       "    </tr>\n",
       "    <tr>\n",
       "      <th>85886</th>\n",
       "      <td>2019</td>\n",
       "      <td>52</td>\n",
       "      <td>25</td>\n",
       "    </tr>\n",
       "    <tr>\n",
       "      <th>88709</th>\n",
       "      <td>2020</td>\n",
       "      <td>8</td>\n",
       "      <td>21</td>\n",
       "    </tr>\n",
       "  </tbody>\n",
       "</table>\n",
       "</div>"
      ],
      "text/plain": [
       "       year  month  day\n",
       "25412  2016     26   30\n",
       "80621  2019     36    6\n",
       "43607  2017     30   25\n",
       "85886  2019     52   25\n",
       "88709  2020      8   21"
      ]
     },
     "execution_count": 27,
     "metadata": {},
     "output_type": "execute_result"
    }
   ],
   "source": [
    "\n",
    "val_X.head()"
   ]
  },
  {
   "cell_type": "code",
   "execution_count": 28,
   "metadata": {},
   "outputs": [
    {
     "name": "stdout",
     "output_type": "stream",
     "text": [
      "[18.329037   19.83728086 18.15212943 17.46081145 18.33134777 18.28580699\n",
      " 18.18068038 18.23818693 18.30238296 18.27006625 18.27280114 18.35087489\n",
      " 18.36605796 18.23379716 18.43763063 18.57728321 18.48032622 18.51321317\n",
      " 18.78744432 18.85872735 18.64719166 18.61554565 19.0587249  19.02819561\n",
      " 19.03033817 18.78969913 18.54343932 18.49417061 18.45047353 18.45047353]\n"
     ]
    }
   ],
   "source": [
    "future_df = pd.read_csv(\"jan_2021.csv\")\n",
    "\n",
    "# Predict the future!! \n",
    "future_predictions = forest_model.predict(future_df)\n",
    "\n",
    "print(future_predictions)\n",
    "\n",
    "# append future_predictions as a column "
   ]
  }
 ],
 "metadata": {
  "kernelspec": {
   "display_name": "Python 3.10.5 ('venv': venv)",
   "language": "python",
   "name": "python3"
  },
  "language_info": {
   "codemirror_mode": {
    "name": "ipython",
    "version": 3
   },
   "file_extension": ".py",
   "mimetype": "text/x-python",
   "name": "python",
   "nbconvert_exporter": "python",
   "pygments_lexer": "ipython3",
   "version": "3.10.5"
  },
  "orig_nbformat": 4,
  "vscode": {
   "interpreter": {
    "hash": "0fba960af1641529de174ee300ae6ac946abf0e66c069a0164b09a55e0468645"
   }
  }
 },
 "nbformat": 4,
 "nbformat_minor": 2
}
