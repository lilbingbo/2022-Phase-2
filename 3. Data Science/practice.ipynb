{
 "cells": [
  {
   "cell_type": "code",
   "execution_count": 1,
   "metadata": {},
   "outputs": [
    {
     "name": "stderr",
     "output_type": "stream",
     "text": [
      "C:\\Users\\Boetmate\\AppData\\Local\\Temp\\ipykernel_13972\\528920820.py:18: FutureWarning: Series.dt.weekofyear and Series.dt.week have been deprecated. Please use Series.dt.isocalendar().week instead.\n",
      "  dataset['week'] = dataset['valid'].dt.week\n"
     ]
    }
   ],
   "source": [
    "import pandas as pd\n",
    "import seaborn as sns\n",
    "\n",
    "import matplotlib.pyplot as plt\n",
    "\n",
    "%matplotlib inline\n",
    "\n",
    "dataset = pd.read_csv(\"weather-data.csv\")\n",
    "\n",
    "\n",
    "# convert 'valid' to datetime format\n",
    "dataset['valid'] = pd.to_datetime(dataset.valid)\n",
    "\n",
    "# extract numerical values from datetime object\n",
    "dataset['year'] = dataset['valid'].dt.year\n",
    "dataset['month'] = dataset['valid'].dt.month\n",
    "dataset['week'] = dataset['valid'].dt.week\n",
    "dataset['day'] = dataset['valid'].dt.day\n",
    "dataset['hour'] = dataset['valid'].dt.hour\n",
    "dataset['minute'] = dataset['valid'].dt.minute\n",
    "dataset['dayofweek'] = dataset['valid'].dt.dayofweek\n",
    "\n",
    "dataset.head()\n",
    "\n",
    "#dataset.drop(dataset.columns[[0, 6, 7]], inplace = True) <- This showed me that \"station\" is actually \" station\" \n",
    "dataset.drop(columns=[' station', 'gust', 'peak_wind_drct', 'valid'], inplace=True)\n",
    "#dataset.head()\n",
    "#dataset.info()\n",
    "\n",
    "#drop na values\n",
    "dataset.dropna(axis=0, inplace= True)"
   ]
  },
  {
   "cell_type": "markdown",
   "metadata": {},
   "source": [
    "The RandomForest model will not accept the datetime format, so I had to convert the dates in the 'valid' column into numerical values. \n",
    "\n",
    "Since I'm going to be modeling temperature, I can drop all the columns except for my newly created columns (year, month, week, day, hour, minute, dayofweek) and 'tmpc'. "
   ]
  },
  {
   "cell_type": "code",
   "execution_count": 4,
   "metadata": {},
   "outputs": [
    {
     "name": "stdout",
     "output_type": "stream",
     "text": [
      "<class 'pandas.core.frame.DataFrame'>\n",
      "Int64Index: 103584 entries, 0 to 103712\n",
      "Data columns (total 11 columns):\n",
      " #   Column     Non-Null Count   Dtype  \n",
      "---  ------     --------------   -----  \n",
      " 0   tmpc       103584 non-null  float64\n",
      " 1   dwpc       103584 non-null  float64\n",
      " 2   relh       103584 non-null  float64\n",
      " 3   sknt       103584 non-null  float64\n",
      " 4   year       103584 non-null  int64  \n",
      " 5   month      103584 non-null  int64  \n",
      " 6   week       103584 non-null  int64  \n",
      " 7   day        103584 non-null  int64  \n",
      " 8   hour       103584 non-null  int64  \n",
      " 9   minute     103584 non-null  int64  \n",
      " 10  dayofweek  103584 non-null  int64  \n",
      "dtypes: float64(4), int64(7)\n",
      "memory usage: 9.5 MB\n",
      "The mean absolute error is 1.7549311546515507\n",
      "The score is 0.7378968915590258\n"
     ]
    }
   ],
   "source": [
    "\n",
    "dataset.info()\n",
    "dataset.head()\n",
    "\n",
    "# Define my target: temperature\n",
    "y = dataset.tmpc \n",
    "\n",
    "# Define my x-values, or features\n",
    "# weather_features = ['year','month', 'day','hour',\t'minute','dayofweek']\n",
    "weather_features = ['year','month', 'day']\n",
    "X = dataset[weather_features]\n",
    "X.describe()\n",
    "\n",
    "from sklearn.model_selection import train_test_split\n",
    "from sklearn.ensemble import RandomForestRegressor\n",
    "from sklearn.metrics import mean_absolute_error\n",
    "\n",
    "# Training and validation sets \n",
    "train_X, val_X, train_y, val_y = train_test_split(X, y, random_state = 1)\n",
    "\n",
    "# Create Random Forest Model\n",
    "forest_model = RandomForestRegressor(random_state=1)\n",
    "forest_model.fit(train_X, train_y)\n",
    "val_predictions = forest_model.predict(val_X)\n",
    "\n",
    "#Evaluating with MAE and R2\n",
    "mean_absolute_error = mean_absolute_error(val_predictions,val_y)\n",
    "\n",
    "print(f'The mean absolute error is {mean_absolute_error}')\n",
    "\n",
    "forest_model_score = forest_model.score(val_X, val_y)\n",
    "\n",
    "print(f'The score is {forest_model_score}')"
   ]
  },
  {
   "cell_type": "code",
   "execution_count": 5,
   "metadata": {},
   "outputs": [
    {
     "data": {
      "text/html": [
       "<div>\n",
       "<style scoped>\n",
       "    .dataframe tbody tr th:only-of-type {\n",
       "        vertical-align: middle;\n",
       "    }\n",
       "\n",
       "    .dataframe tbody tr th {\n",
       "        vertical-align: top;\n",
       "    }\n",
       "\n",
       "    .dataframe thead th {\n",
       "        text-align: right;\n",
       "    }\n",
       "</style>\n",
       "<table border=\"1\" class=\"dataframe\">\n",
       "  <thead>\n",
       "    <tr style=\"text-align: right;\">\n",
       "      <th></th>\n",
       "      <th>year</th>\n",
       "      <th>month</th>\n",
       "      <th>day</th>\n",
       "    </tr>\n",
       "  </thead>\n",
       "  <tbody>\n",
       "    <tr>\n",
       "      <th>25412</th>\n",
       "      <td>2016</td>\n",
       "      <td>6</td>\n",
       "      <td>30</td>\n",
       "    </tr>\n",
       "    <tr>\n",
       "      <th>80621</th>\n",
       "      <td>2019</td>\n",
       "      <td>9</td>\n",
       "      <td>6</td>\n",
       "    </tr>\n",
       "    <tr>\n",
       "      <th>43607</th>\n",
       "      <td>2017</td>\n",
       "      <td>7</td>\n",
       "      <td>25</td>\n",
       "    </tr>\n",
       "    <tr>\n",
       "      <th>85886</th>\n",
       "      <td>2019</td>\n",
       "      <td>12</td>\n",
       "      <td>25</td>\n",
       "    </tr>\n",
       "    <tr>\n",
       "      <th>88709</th>\n",
       "      <td>2020</td>\n",
       "      <td>2</td>\n",
       "      <td>21</td>\n",
       "    </tr>\n",
       "  </tbody>\n",
       "</table>\n",
       "</div>"
      ],
      "text/plain": [
       "       year  month  day\n",
       "25412  2016      6   30\n",
       "80621  2019      9    6\n",
       "43607  2017      7   25\n",
       "85886  2019     12   25\n",
       "88709  2020      2   21"
      ]
     },
     "execution_count": 5,
     "metadata": {},
     "output_type": "execute_result"
    }
   ],
   "source": [
    "val_X.head()"
   ]
  },
  {
   "cell_type": "code",
   "execution_count": 8,
   "metadata": {},
   "outputs": [
    {
     "name": "stdout",
     "output_type": "stream",
     "text": [
      "[18.329037   19.83728086 18.15212943 17.46081145 18.33134777 17.31644315\n",
      " 16.03740394 16.74998331 17.8297585  17.10155477 17.38994476 18.43078227\n",
      " 18.52319135 17.08369506 19.1726561  19.3927738  18.9254504  19.01419741\n",
      " 20.24987796 20.74532275 19.53195043 19.30556068 21.66056223 21.36729359\n",
      " 21.55532283 20.40985739 21.42744282 22.10521631 22.21105655 22.0435968 ]\n"
     ]
    }
   ],
   "source": [
    "# Read the csv file with the dates for January 2021\n",
    "future_df = pd.read_csv(\"jan_2021.csv\")\n",
    "\n",
    "# Predict the future!! \n",
    "future_predictions = forest_model.predict(future_df)\n",
    "\n",
    "print(future_predictions)\n",
    "\n",
    "# append future_predictions as a column "
   ]
  },
  {
   "cell_type": "markdown",
   "metadata": {},
   "source": [
    "### Model Evaluation"
   ]
  },
  {
   "cell_type": "markdown",
   "metadata": {},
   "source": [
    "The forest model score = 0.7379, meaning 73.79% of the variation in temperature is explained by the model.\n",
    "\n",
    "The mean absolute error tells me that the model's predictions are off by an average of 1.75 degrees Celsius from the true temperature. \n",
    "\n",
    "These are reasonably good scores given that the only independent variables in my model are month, day, and year. Ideally, I'd be able to use the other columns from the weather dataset (relative humidity, dew point) to make a more accurate model. However, I can only pass in month, day, and year as variables into my model because I don't know what the relative humidity or dew point would be in January 2021. "
   ]
  },
  {
   "cell_type": "markdown",
   "metadata": {},
   "source": []
  }
 ],
 "metadata": {
  "kernelspec": {
   "display_name": "Python 3.10.5 ('venv': venv)",
   "language": "python",
   "name": "python3"
  },
  "language_info": {
   "codemirror_mode": {
    "name": "ipython",
    "version": 3
   },
   "file_extension": ".py",
   "mimetype": "text/x-python",
   "name": "python",
   "nbconvert_exporter": "python",
   "pygments_lexer": "ipython3",
   "version": "3.10.5"
  },
  "orig_nbformat": 4,
  "vscode": {
   "interpreter": {
    "hash": "0fba960af1641529de174ee300ae6ac946abf0e66c069a0164b09a55e0468645"
   }
  }
 },
 "nbformat": 4,
 "nbformat_minor": 2
}
